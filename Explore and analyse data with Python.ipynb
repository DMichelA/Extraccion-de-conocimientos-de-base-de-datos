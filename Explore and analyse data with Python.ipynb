{
  "nbformat": 4,
  "nbformat_minor": 0,
  "metadata": {
    "colab": {
      "name": "Untitled0.ipynb",
      "provenance": [],
      "authorship_tag": "ABX9TyPNHQOQbwrhbE2A2F1udpTG",
      "include_colab_link": true
    },
    "kernelspec": {
      "name": "python3",
      "display_name": "Python 3"
    },
    "language_info": {
      "name": "python"
    }
  },
  "cells": [
    {
      "cell_type": "markdown",
      "metadata": {
        "id": "view-in-github",
        "colab_type": "text"
      },
      "source": [
        "<a href=\"https://colab.research.google.com/github/DMichelA/Extraccion-de-conocimientos-de-base-de-datos/blob/main/Explore%20and%20analyse%20data%20with%20Python.ipynb\" target=\"_parent\"><img src=\"https://colab.research.google.com/assets/colab-badge.svg\" alt=\"Open In Colab\"/></a>"
      ]
    },
    {
      "cell_type": "markdown",
      "metadata": {
        "id": "VjGvAZs3hDRt"
      },
      "source": [
        "# Introducción\n",
        "\n",
        "Como era de esperar, el papel de un científico de datos implica principalmente explorar y analizar datos. Los resultados de un análisis pueden formar la base de un informe o un modelo de aprendizaje automático, pero todo comienza con los datos, siendo Python el lenguaje de programación más popular para los científicos de datos.\n",
        "\n",
        "Después de décadas de desarrollo de código abierto, Python proporciona una amplia funcionalidad con potentes bibliotecas estadísticas y numéricas:\n",
        "\n",
        "\n",
        "*   NumPy y Pandas simplifican el análisis y la manipulación de datos\n",
        "*   Matplotlib proporciona atractivas visualizaciones de datos\n",
        "*   Scikit-learn ofrece un análisis predictivo de datos simple y efectivo\n",
        "*   TensorFlow y PyTorch proporcionan capacidades de aprendizaje automático y aprendizaje profundo\n",
        "\n",
        "Por lo general, un proyecto de análisis de datos está diseñado para establecer ideas sobre un escenario en particular o para probar una hipótesis.\n",
        "\n",
        "Por ejemplo, supongamos que un profesor universitario recopila datos de sus estudiantes, incluido el número de conferencias a las que asistió, las horas dedicadas a estudiar y la calificación final lograda al final del examen de fin de trimestre. El profesor podría analizar los datos para determinar si existe una relación entre la cantidad de estudios que realiza un estudiante y la calificación final que obtiene. El profesor podría usar los datos para probar una hipótesis de que solo los estudiantes que estudian durante un número mínimo de horas pueden esperar lograr una calificación aprobatoria."
      ]
    }
  ]
}